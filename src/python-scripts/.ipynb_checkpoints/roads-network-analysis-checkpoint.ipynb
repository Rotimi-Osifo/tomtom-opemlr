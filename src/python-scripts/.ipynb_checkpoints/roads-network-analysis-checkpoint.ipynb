{
 "cells": [
  {
   "cell_type": "code",
   "execution_count": 1,
   "id": "b5e960cf",
   "metadata": {},
   "outputs": [
    {
     "name": "stderr",
     "output_type": "stream",
     "text": [
      "/home/oosifo/anaconda3/lib/python3.9/site-packages/scipy/__init__.py:146: UserWarning: A NumPy version >=1.16.5 and <1.23.0 is required for this version of SciPy (detected version 1.23.4\n",
      "  warnings.warn(f\"A NumPy version >={np_minversion} and <{np_maxversion}\"\n"
     ]
    }
   ],
   "source": [
    "# import the needed libraries. The import is global\n",
    "from pyrosm import OSM\n",
    "from pyrosm import get_data\n",
    "\n",
    "import geopandas\n",
    "import pandas as pd\n",
    "\n",
    "import geojson\n",
    "from geojson import Feature, Point\n",
    "from geojson import FeatureCollection\n",
    "import geojsonio\n",
    "\n",
    "import json\n",
    "\n",
    "from geojson import LineString\n",
    "from geojson import MultiLineString\n",
    "\n",
    "import pika\n",
    "\n",
    "from turfpy.measurement import rhumb_bearing\n",
    "\n",
    "import shapely.wkt\n",
    "import sys\n",
    "import datetime\n",
    "from datetime import datetime\n",
    "from datetime import timedelta"
   ]
  },
  {
   "cell_type": "code",
   "execution_count": 2,
   "id": "8689f18d",
   "metadata": {},
   "outputs": [],
   "source": [
    "import warnings\n",
    "warnings.filterwarnings('ignore')"
   ]
  },
  {
   "cell_type": "code",
   "execution_count": 3,
   "id": "2cd94bbe",
   "metadata": {},
   "outputs": [],
   "source": [
    "# set the file containing the map data.\n",
    "osm = OSM(\"../data/gothenburg.osm.pbf\")"
   ]
  },
  {
   "cell_type": "code",
   "execution_count": 4,
   "id": "af58d9e3",
   "metadata": {},
   "outputs": [],
   "source": [
    "# Read road networks from the map\n",
    "graph_nodes, graph_edges = osm.get_network(network_type=\"driving\", nodes=True)"
   ]
  },
  {
   "cell_type": "code",
   "execution_count": 5,
   "id": "29aff150",
   "metadata": {},
   "outputs": [
    {
     "data": {
      "text/html": [
       "<div>\n",
       "<style scoped>\n",
       "    .dataframe tbody tr th:only-of-type {\n",
       "        vertical-align: middle;\n",
       "    }\n",
       "\n",
       "    .dataframe tbody tr th {\n",
       "        vertical-align: top;\n",
       "    }\n",
       "\n",
       "    .dataframe thead th {\n",
       "        text-align: right;\n",
       "    }\n",
       "</style>\n",
       "<table border=\"1\" class=\"dataframe\">\n",
       "  <thead>\n",
       "    <tr style=\"text-align: right;\">\n",
       "      <th></th>\n",
       "      <th>access</th>\n",
       "      <th>area</th>\n",
       "      <th>bicycle</th>\n",
       "      <th>bridge</th>\n",
       "      <th>cycleway</th>\n",
       "      <th>foot</th>\n",
       "      <th>highway</th>\n",
       "      <th>int_ref</th>\n",
       "      <th>junction</th>\n",
       "      <th>lanes</th>\n",
       "      <th>...</th>\n",
       "      <th>width</th>\n",
       "      <th>id</th>\n",
       "      <th>timestamp</th>\n",
       "      <th>version</th>\n",
       "      <th>tags</th>\n",
       "      <th>osm_type</th>\n",
       "      <th>geometry</th>\n",
       "      <th>u</th>\n",
       "      <th>v</th>\n",
       "      <th>length</th>\n",
       "    </tr>\n",
       "  </thead>\n",
       "  <tbody>\n",
       "    <tr>\n",
       "      <th>0</th>\n",
       "      <td>None</td>\n",
       "      <td>None</td>\n",
       "      <td>None</td>\n",
       "      <td>None</td>\n",
       "      <td>None</td>\n",
       "      <td>None</td>\n",
       "      <td>motorway</td>\n",
       "      <td>None</td>\n",
       "      <td>None</td>\n",
       "      <td>2</td>\n",
       "      <td>...</td>\n",
       "      <td>None</td>\n",
       "      <td>3426096</td>\n",
       "      <td>0</td>\n",
       "      <td>-1</td>\n",
       "      <td>None</td>\n",
       "      <td>way</td>\n",
       "      <td>LINESTRING (12.44178 57.67077, 12.43998 57.67063)</td>\n",
       "      <td>7553970286</td>\n",
       "      <td>268861750</td>\n",
       "      <td>108.374</td>\n",
       "    </tr>\n",
       "  </tbody>\n",
       "</table>\n",
       "<p>1 rows × 38 columns</p>\n",
       "</div>"
      ],
      "text/plain": [
       "  access  area bicycle bridge cycleway  foot   highway int_ref junction lanes  \\\n",
       "0   None  None    None   None     None  None  motorway    None     None     2   \n",
       "\n",
       "   ... width       id timestamp version  tags osm_type  \\\n",
       "0  ...  None  3426096         0      -1  None      way   \n",
       "\n",
       "                                            geometry           u          v  \\\n",
       "0  LINESTRING (12.44178 57.67077, 12.43998 57.67063)  7553970286  268861750   \n",
       "\n",
       "    length  \n",
       "0  108.374  \n",
       "\n",
       "[1 rows x 38 columns]"
      ]
     },
     "execution_count": 5,
     "metadata": {},
     "output_type": "execute_result"
    }
   ],
   "source": [
    "graph_edges.head(1)"
   ]
  },
  {
   "cell_type": "code",
   "execution_count": 6,
   "id": "70b28868",
   "metadata": {},
   "outputs": [
    {
     "name": "stdout",
     "output_type": "stream",
     "text": [
      "<class 'geopandas.geodataframe.GeoDataFrame'>\n",
      "RangeIndex: 371683 entries, 0 to 371682\n",
      "Data columns (total 38 columns):\n",
      " #   Column         Non-Null Count   Dtype   \n",
      "---  ------         --------------   -----   \n",
      " 0   access         13238 non-null   object  \n",
      " 1   area           741 non-null     object  \n",
      " 2   bicycle        5643 non-null    object  \n",
      " 3   bridge         1942 non-null    object  \n",
      " 4   cycleway       735 non-null     object  \n",
      " 5   foot           6234 non-null    object  \n",
      " 6   highway        371683 non-null  object  \n",
      " 7   int_ref        2691 non-null    object  \n",
      " 8   junction       11693 non-null   object  \n",
      " 9   lanes          31790 non-null   object  \n",
      " 10  lit            42194 non-null   object  \n",
      " 11  maxspeed       139412 non-null  object  \n",
      " 12  motorcar       723 non-null     object  \n",
      " 13  motorroad      130 non-null     object  \n",
      " 14  motor_vehicle  10212 non-null   object  \n",
      " 15  name           228289 non-null  object  \n",
      " 16  oneway         44901 non-null   object  \n",
      " 17  overtaking     175 non-null     object  \n",
      " 18  psv            4251 non-null    object  \n",
      " 19  ref            32573 non-null   object  \n",
      " 20  service        36871 non-null   object  \n",
      " 21  segregated     337 non-null     object  \n",
      " 22  sidewalk       9748 non-null    object  \n",
      " 23  smoothness     821 non-null     object  \n",
      " 24  surface        164544 non-null  object  \n",
      " 25  tracktype      1491 non-null    object  \n",
      " 26  tunnel         394 non-null     object  \n",
      " 27  turn           65 non-null      object  \n",
      " 28  width          1830 non-null    object  \n",
      " 29  id             371683 non-null  int64   \n",
      " 30  timestamp      371683 non-null  int64   \n",
      " 31  version        371683 non-null  int8    \n",
      " 32  tags           64250 non-null   object  \n",
      " 33  osm_type       371683 non-null  object  \n",
      " 34  geometry       371683 non-null  geometry\n",
      " 35  u              371683 non-null  int64   \n",
      " 36  v              371683 non-null  int64   \n",
      " 37  length         371683 non-null  float64 \n",
      "dtypes: float64(1), geometry(1), int64(4), int8(1), object(31)\n",
      "memory usage: 105.3+ MB\n"
     ]
    }
   ],
   "source": [
    "graph_edges.info()"
   ]
  },
  {
   "cell_type": "code",
   "execution_count": 7,
   "id": "62fef1db",
   "metadata": {},
   "outputs": [],
   "source": [
    "import osmnx as ox"
   ]
  },
  {
   "cell_type": "code",
   "execution_count": 8,
   "id": "3aaca718",
   "metadata": {},
   "outputs": [],
   "source": [
    "graph_network = osm.to_graph(nodes, graph_edges, graph_type='networkx')"
   ]
  },
  {
   "cell_type": "code",
   "execution_count": 9,
   "id": "eb52c1e9",
   "metadata": {},
   "outputs": [],
   "source": [
    "#ox.plot_graph(graph_network)"
   ]
  },
  {
   "cell_type": "code",
   "execution_count": 10,
   "id": "152fc8bc",
   "metadata": {},
   "outputs": [],
   "source": [
    "#284402021"
   ]
  },
  {
   "cell_type": "code",
   "execution_count": 11,
   "id": "8703ef84",
   "metadata": {},
   "outputs": [],
   "source": [
    "import networkx"
   ]
  },
  {
   "cell_type": "code",
   "execution_count": 19,
   "id": "1db6f803",
   "metadata": {},
   "outputs": [],
   "source": [
    "#graph_network.edges()"
   ]
  },
  {
   "cell_type": "code",
   "execution_count": 13,
   "id": "c7b5ebe9",
   "metadata": {},
   "outputs": [
    {
     "name": "stdout",
     "output_type": "stream",
     "text": [
      "629552\n"
     ]
    }
   ],
   "source": [
    "print(len(edges))"
   ]
  },
  {
   "cell_type": "code",
   "execution_count": 16,
   "id": "6f2867c5",
   "metadata": {},
   "outputs": [],
   "source": [
    "gdf_284402021 = graph_edges[graph_edges['id'].isin([284402021])]"
   ]
  },
  {
   "cell_type": "code",
   "execution_count": 20,
   "id": "f5d74033",
   "metadata": {},
   "outputs": [],
   "source": [
    "#gdf_284402021.head()"
   ]
  },
  {
   "cell_type": "code",
   "execution_count": 21,
   "id": "e1271c46",
   "metadata": {},
   "outputs": [],
   "source": [
    "gdf_E6 = graph_edges[graph_edges['ref'] == 'E 6']"
   ]
  },
  {
   "cell_type": "code",
   "execution_count": 24,
   "id": "f01e92fa",
   "metadata": {},
   "outputs": [],
   "source": [
    "ids = list()\n",
    "for road in gdf_E6.itertuples():\n",
    "    if ids.count(road.id) == 0:\n",
    "        ids.append(road.id)\n",
    "    "
   ]
  },
  {
   "cell_type": "code",
   "execution_count": 25,
   "id": "af933614",
   "metadata": {},
   "outputs": [
    {
     "name": "stdout",
     "output_type": "stream",
     "text": [
      "[4040302, 4040303, 4040443, 4077750, 4498560, 4498563, 4865150, 8132639, 13865741, 13865742, 13865743, 13865744, 41291138, 50898242, 50898254, 58703991, 111626846, 116613456, 116613461, 116613463, 116613464, 116613465, 116613466, 116614205, 116614206, 116614207, 116614208, 116614211, 116614212, 116615258, 118631478, 118631484, 142028779, 165275002, 165275007, 165528067, 168975966, 183028746, 183156782, 213579174, 213798704, 214287031, 214290381, 214860674, 214860680, 214860684, 215041207, 215041210, 222217359, 222217361, 222217362, 222217364, 222217365, 222219935, 226048674, 226048675, 226048677, 236557696, 236557699, 237772652, 284402021, 284402024, 284402509, 284402510, 284402511, 284402514, 284404463, 284407459, 284408723, 284408724, 284408726, 284408727, 284409596, 284409597, 286430790, 290070332, 395613919, 408861785, 408861787, 408861788, 440330694, 440330697, 440330699, 440330703, 440330706, 471650441, 471650443, 539199603, 540043595, 619559320, 619559321, 619559322, 620024876, 655106674, 655106675, 669005156, 705749709, 707848133, 707852415, 707853120, 707853635, 940731566, 940731567, 940731568, 940731569, 940731570, 940731571, 940731572, 940731576, 940731577, 940731589, 940731591, 940731592, 940731593, 940731594, 940731595, 941040130, 941040131, 941040134, 941040135, 941040136, 941040137, 941040138, 941040139, 941040140, 941040141, 990532264, 990532265, 990532266, 1022912204, 1022912205, 1022912206, 1022912207, 1022912220, 1022912221, 1022912222, 1022912223, 1022912227, 1022912228, 1022912231, 1022912232, 1022912239, 1022912240, 1022912241, 1022912242, 1022912243, 1022912244, 1022912245, 1022912246, 1022912247, 1022912248, 1022919209, 1022919210, 1022919212, 1022919213, 1022919219, 1022919220, 1022919223, 1022919224, 1022919226, 1023025690, 1023025691, 1023025693, 1023025694, 1023025704, 1023025705, 1023025707, 1023025708, 1023025710, 1023025711, 1023025737, 1023025738, 1023025740, 1023025742, 1023025743, 1023025745, 1023025746, 1023025748, 1023025749, 1023025754, 1023025755, 1023025760, 1023025761, 1023025763, 1023025764, 1043543291, 1043543292]\n"
     ]
    }
   ],
   "source": [
    "print(ids)"
   ]
  },
  {
   "cell_type": "code",
   "execution_count": 26,
   "id": "51a4bbbe",
   "metadata": {},
   "outputs": [
    {
     "name": "stdout",
     "output_type": "stream",
     "text": [
      "187\n"
     ]
    }
   ],
   "source": [
    "print(len(ids))"
   ]
  },
  {
   "cell_type": "code",
   "execution_count": null,
   "id": "756d432f",
   "metadata": {},
   "outputs": [],
   "source": []
  }
 ],
 "metadata": {
  "kernelspec": {
   "display_name": "Python 3 (ipykernel)",
   "language": "python",
   "name": "python3"
  },
  "language_info": {
   "codemirror_mode": {
    "name": "ipython",
    "version": 3
   },
   "file_extension": ".py",
   "mimetype": "text/x-python",
   "name": "python",
   "nbconvert_exporter": "python",
   "pygments_lexer": "ipython3",
   "version": "3.9.12"
  }
 },
 "nbformat": 4,
 "nbformat_minor": 5
}
